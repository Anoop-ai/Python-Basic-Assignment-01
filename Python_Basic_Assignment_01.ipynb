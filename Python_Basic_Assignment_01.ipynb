{
  "nbformat": 4,
  "nbformat_minor": 0,
  "metadata": {
    "colab": {
      "provenance": []
    },
    "kernelspec": {
      "name": "python3",
      "display_name": "Python 3"
    },
    "language_info": {
      "name": "python"
    }
  },
  "cells": [
    {
      "cell_type": "code",
      "source": [
        "1.\n",
        "  *       Expression\n",
        "  'hello' Value(String)\n",
        "  -87.8   Value(Integer)\n",
        "  -       Expression\n",
        "  /       Expression\n",
        "  +       Expression\n",
        "  6       Value(Integer)"
      ],
      "metadata": {
        "id": "zzBIXGlv_7MF"
      },
      "execution_count": null,
      "outputs": []
    },
    {
      "cell_type": "code",
      "source": [
        "2. \n",
        "   # String is a Data Type while Variable is a container for storing data values of different data types.\n",
        "   # String is immutable whereas Variable can take any values."
      ],
      "metadata": {
        "colab": {
          "base_uri": "https://localhost:8080/"
        },
        "id": "CwbezD00AMxf",
        "outputId": "49e34b86-42c2-4b94-8d0f-f022892571a3"
      },
      "execution_count": 5,
      "outputs": [
        {
          "output_type": "execute_result",
          "data": {
            "text/plain": [
              "str"
            ]
          },
          "metadata": {},
          "execution_count": 5
        }
      ]
    },
    {
      "cell_type": "code",
      "source": [
        "3.\n",
        "  # Integer is a datatype which is negative or positive values\n",
        "  # String is anything within single quotes, double quotes or even triple quotes. It can be of any datatype like integer, float, boolean etc but enclosed with single, double and triple quotes\n",
        "  # Float is numbers with decimal points.\n",
        "\n"
      ],
      "metadata": {
        "id": "r4UFzpm1BdXg"
      },
      "execution_count": null,
      "outputs": []
    },
    {
      "cell_type": "code",
      "source": [
        "4.\n",
        "  # An expression is any legal combination of symbols (like a variable, constants, and operators) representing a value. An expression must have at least one operand (variable or constant) and have one or more operators.After evaluating an expression, we get a value."
      ],
      "metadata": {
        "id": "eWJ4Vjz9EbZF"
      },
      "execution_count": null,
      "outputs": []
    },
    {
      "cell_type": "code",
      "source": [
        "5. \n",
        "   # Expression- Expressions always returns a value Functions are also expressions. Even a non returning function will still return None value, so it is an expression. Can print the result value.\n",
        "   # Statement- A statement never returns a value cannot print any result Examples Of Python Statements: Assignment statements, conditional branching, loops, classes, import, def, try, except, pass, del etc"
      ],
      "metadata": {
        "id": "ZV7IVcoHEfQR"
      },
      "execution_count": null,
      "outputs": []
    },
    {
      "cell_type": "code",
      "source": [
        "# 6. \n",
        "bacon = 22\n",
        "bacon + 1"
      ],
      "metadata": {
        "colab": {
          "base_uri": "https://localhost:8080/"
        },
        "id": "YsWVxVgQGNLH",
        "outputId": "cb43d451-3a1c-4b4c-8917-c9851f4455e1"
      },
      "execution_count": 10,
      "outputs": [
        {
          "output_type": "execute_result",
          "data": {
            "text/plain": [
              "23"
            ]
          },
          "metadata": {},
          "execution_count": 10
        }
      ]
    },
    {
      "cell_type": "code",
      "source": [
        "bacon   # Variable bacon contains 22 only as the increment operation done needs to be assigned to the variable for change of value of the variable"
      ],
      "metadata": {
        "colab": {
          "base_uri": "https://localhost:8080/"
        },
        "id": "1ir5vujWDlps",
        "outputId": "0dbd7277-0aef-44d3-c4d5-a5cea741bd81"
      },
      "execution_count": 12,
      "outputs": [
        {
          "output_type": "execute_result",
          "data": {
            "text/plain": [
              "22"
            ]
          },
          "metadata": {},
          "execution_count": 12
        }
      ]
    },
    {
      "cell_type": "code",
      "source": [
        " #7.\n",
        " 'spam' + 'spamspam'  # concatenation of two strings\n"
      ],
      "metadata": {
        "colab": {
          "base_uri": "https://localhost:8080/",
          "height": 35
        },
        "id": "uVrs9BISHlQ-",
        "outputId": "22e9885b-0b14-4f25-fa08-1ee44a49e978"
      },
      "execution_count": 19,
      "outputs": [
        {
          "output_type": "execute_result",
          "data": {
            "text/plain": [
              "'spamspamspam'"
            ],
            "application/vnd.google.colaboratory.intrinsic+json": {
              "type": "string"
            }
          },
          "metadata": {},
          "execution_count": 19
        }
      ]
    },
    {
      "cell_type": "code",
      "source": [
        "'spam' * 3    # spam will be multipled thrice"
      ],
      "metadata": {
        "colab": {
          "base_uri": "https://localhost:8080/",
          "height": 35
        },
        "id": "vA85Rk6QHcI1",
        "outputId": "18d39fcc-e9f5-4efe-b609-4f93cfd00879"
      },
      "execution_count": 20,
      "outputs": [
        {
          "output_type": "execute_result",
          "data": {
            "text/plain": [
              "'spamspamspam'"
            ],
            "application/vnd.google.colaboratory.intrinsic+json": {
              "type": "string"
            }
          },
          "metadata": {},
          "execution_count": 20
        }
      ]
    },
    {
      "cell_type": "code",
      "source": [
        "# 8.\n",
        "    # eggs is valid variable name as it starts with a letter and contains different letters\n",
        "    # But 100 is not a valid variable name as variables names should not start with numbers\n",
        "    \"\"\"A variable name must start with a letter or the underscore character.\n",
        "A variable name cannot start with a number.\n",
        "A variable name can only contain alpha-numeric characters and underscores (A-z, 0-9, and _ ).\n",
        "Variable names are case-sensitive (name, Name and NAME are three different variables).\n",
        "The reserved words(keywords) cannot be used naming the variable\"\"\""
      ],
      "metadata": {
        "id": "WSbkRecxH6lc"
      },
      "execution_count": null,
      "outputs": []
    },
    {
      "cell_type": "code",
      "source": [
        "# 9. \n",
        "# int(), float() and str() are the 3 functions used to get integer, floating point number and string version of a value\n"
      ],
      "metadata": {
        "id": "m3OgFq3ZJH_L"
      },
      "execution_count": 29,
      "outputs": []
    },
    {
      "cell_type": "code",
      "source": [
        "# 10.\n",
        "'I have eaten' + 99 + 'burritos.'  # 99 is an integer. We cannot concatenate a string and an integer"
      ],
      "metadata": {
        "colab": {
          "base_uri": "https://localhost:8080/",
          "height": 183
        },
        "id": "-b9rEI-tO4nI",
        "outputId": "7a903bc7-d23d-4867-9a17-b5dbb6aa6663"
      },
      "execution_count": 22,
      "outputs": [
        {
          "output_type": "error",
          "ename": "TypeError",
          "evalue": "ignored",
          "traceback": [
            "\u001b[0;31m---------------------------------------------------------------------------\u001b[0m",
            "\u001b[0;31mTypeError\u001b[0m                                 Traceback (most recent call last)",
            "\u001b[0;32m<ipython-input-22-89e2be35a2be>\u001b[0m in \u001b[0;36m<module>\u001b[0;34m\u001b[0m\n\u001b[1;32m      1\u001b[0m \u001b[0;31m# 10.\u001b[0m\u001b[0;34m\u001b[0m\u001b[0;34m\u001b[0m\u001b[0;34m\u001b[0m\u001b[0m\n\u001b[0;32m----> 2\u001b[0;31m \u001b[0;34m'I have eaten'\u001b[0m \u001b[0;34m+\u001b[0m \u001b[0;36m99\u001b[0m \u001b[0;34m+\u001b[0m \u001b[0;34m'burritos.'\u001b[0m\u001b[0;34m\u001b[0m\u001b[0;34m\u001b[0m\u001b[0m\n\u001b[0m",
            "\u001b[0;31mTypeError\u001b[0m: can only concatenate str (not \"int\") to str"
          ]
        }
      ]
    },
    {
      "cell_type": "code",
      "source": [
        "'I have eaten'+ ' 99 ' + 'burritos.'  # Convert 99 into string to fix the error"
      ],
      "metadata": {
        "colab": {
          "base_uri": "https://localhost:8080/",
          "height": 35
        },
        "id": "-ZR7NBAtPNlV",
        "outputId": "617fb1f8-b820-458b-dcde-68321fd50bc7"
      },
      "execution_count": 26,
      "outputs": [
        {
          "output_type": "execute_result",
          "data": {
            "text/plain": [
              "'I have eaten 99 burritos.'"
            ],
            "application/vnd.google.colaboratory.intrinsic+json": {
              "type": "string"
            }
          },
          "metadata": {},
          "execution_count": 26
        }
      ]
    },
    {
      "cell_type": "code",
      "source": [],
      "metadata": {
        "id": "_7rFHw8TPh5x"
      },
      "execution_count": null,
      "outputs": []
    }
  ]
}